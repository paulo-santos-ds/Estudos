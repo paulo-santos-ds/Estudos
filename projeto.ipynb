{
  "nbformat": 4,
  "nbformat_minor": 0,
  "metadata": {
    "colab": {
      "provenance": [],
      "authorship_tag": "ABX9TyNwVIYi9wz+j8sCCDs3Q+oU",
      "include_colab_link": true
    },
    "kernelspec": {
      "name": "python3",
      "display_name": "Python 3"
    },
    "language_info": {
      "name": "python"
    }
  },
  "cells": [
    {
      "cell_type": "markdown",
      "metadata": {
        "id": "view-in-github",
        "colab_type": "text"
      },
      "source": [
        "<a href=\"https://colab.research.google.com/github/paulo-santos-ds/Estudos/blob/main/projeto.ipynb\" target=\"_parent\"><img src=\"https://colab.research.google.com/assets/colab-badge.svg\" alt=\"Open In Colab\"/></a>"
      ]
    },
    {
      "cell_type": "code",
      "execution_count": null,
      "metadata": {
        "id": "eYP7JCnwXKsv"
      },
      "outputs": [],
      "source": [
        "!pip install pandas\n",
        "!pip install numpy\n",
        "!pip install vanna\n",
        "!pip install xgboost"
      ]
    },
    {
      "cell_type": "code",
      "source": [
        "import vanna as vn"
      ],
      "metadata": {
        "id": "se9wTGK4Xo4W"
      },
      "execution_count": 2,
      "outputs": []
    },
    {
      "cell_type": "code",
      "source": [
        "from vanna.remote import VannaDefault\n",
        "\n",
        "api_key = \"Your API key from https://vanna.ai/account/profile\"\n",
        "vanna_model_name = \"Your model name from https://vanna.ai/account/profile\"\n",
        "\n",
        "vn = VannaDefault(model=vanna_model_name, api_key=api_key)\n"
      ],
      "metadata": {
        "id": "qEqal47LYPlO"
      },
      "execution_count": 5,
      "outputs": []
    },
    {
      "cell_type": "code",
      "source": [],
      "metadata": {
        "id": "FmXCV4guXuft"
      },
      "execution_count": null,
      "outputs": []
    },
    {
      "cell_type": "code",
      "source": [],
      "metadata": {
        "id": "VghvvnRwA231"
      },
      "execution_count": null,
      "outputs": []
    }
  ]
}